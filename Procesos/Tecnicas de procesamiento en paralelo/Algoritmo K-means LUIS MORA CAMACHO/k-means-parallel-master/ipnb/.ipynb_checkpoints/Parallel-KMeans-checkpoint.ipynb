{
 "cells": [
  {
   "cell_type": "code",
   "execution_count": 2,
   "metadata": {},
   "outputs": [
    {
     "name": "stderr",
     "output_type": "stream",
     "text": [
      "c:\\users\\user\\appdata\\local\\programs\\python\\python36-32\\lib\\site-packages\\IPython\\parallel.py:13: ShimWarning: The `IPython.parallel` package has been deprecated since IPython 4.0. You should import from ipyparallel instead.\n",
      "  \"You should import from ipyparallel instead.\", ShimWarning)\n"
     ]
    }
   ],
   "source": [
    "import numpy as np\n",
    "from IPython import parallel"
   ]
  },
  {
   "cell_type": "code",
   "execution_count": 3,
   "metadata": {},
   "outputs": [
    {
     "ename": "AttributeError",
     "evalue": "Client",
     "output_type": "error",
     "traceback": [
      "\u001b[1;31m---------------------------------------------------------------------------\u001b[0m",
      "\u001b[1;31mModuleNotFoundError\u001b[0m                       Traceback (most recent call last)",
      "\u001b[1;32mc:\\users\\user\\appdata\\local\\programs\\python\\python36-32\\lib\\site-packages\\IPython\\utils\\shimmodule.py\u001b[0m in \u001b[0;36m__getattr__\u001b[1;34m(self, key)\u001b[0m\n\u001b[0;32m     91\u001b[0m         \u001b[1;32mtry\u001b[0m\u001b[1;33m:\u001b[0m\u001b[1;33m\u001b[0m\u001b[0m\n\u001b[1;32m---> 92\u001b[1;33m             \u001b[1;32mreturn\u001b[0m \u001b[0mimport_item\u001b[0m\u001b[1;33m(\u001b[0m\u001b[0mname\u001b[0m\u001b[1;33m)\u001b[0m\u001b[1;33m\u001b[0m\u001b[0m\n\u001b[0m\u001b[0;32m     93\u001b[0m         \u001b[1;32mexcept\u001b[0m \u001b[0mImportError\u001b[0m\u001b[1;33m:\u001b[0m\u001b[1;33m\u001b[0m\u001b[0m\n",
      "\u001b[1;32mc:\\users\\user\\appdata\\local\\programs\\python\\python36-32\\lib\\site-packages\\IPython\\utils\\importstring.py\u001b[0m in \u001b[0;36mimport_item\u001b[1;34m(name)\u001b[0m\n\u001b[0;32m     30\u001b[0m         \u001b[0mpackage\u001b[0m\u001b[1;33m,\u001b[0m \u001b[0mobj\u001b[0m \u001b[1;33m=\u001b[0m \u001b[0mparts\u001b[0m\u001b[1;33m\u001b[0m\u001b[0m\n\u001b[1;32m---> 31\u001b[1;33m         \u001b[0mmodule\u001b[0m \u001b[1;33m=\u001b[0m \u001b[0m__import__\u001b[0m\u001b[1;33m(\u001b[0m\u001b[0mpackage\u001b[0m\u001b[1;33m,\u001b[0m \u001b[0mfromlist\u001b[0m\u001b[1;33m=\u001b[0m\u001b[1;33m[\u001b[0m\u001b[0mobj\u001b[0m\u001b[1;33m]\u001b[0m\u001b[1;33m)\u001b[0m\u001b[1;33m\u001b[0m\u001b[0m\n\u001b[0m\u001b[0;32m     32\u001b[0m         \u001b[1;32mtry\u001b[0m\u001b[1;33m:\u001b[0m\u001b[1;33m\u001b[0m\u001b[0m\n",
      "\u001b[1;31mModuleNotFoundError\u001b[0m: No module named 'ipyparallel'",
      "\nDuring handling of the above exception, another exception occurred:\n",
      "\u001b[1;31mAttributeError\u001b[0m                            Traceback (most recent call last)",
      "\u001b[1;32m<ipython-input-3-e2f3638561a3>\u001b[0m in \u001b[0;36m<module>\u001b[1;34m()\u001b[0m\n\u001b[1;32m----> 1\u001b[1;33m \u001b[0mrc\u001b[0m \u001b[1;33m=\u001b[0m \u001b[0mparallel\u001b[0m\u001b[1;33m.\u001b[0m\u001b[0mClient\u001b[0m\u001b[1;33m(\u001b[0m\u001b[1;33m)\u001b[0m\u001b[1;33m\u001b[0m\u001b[0m\n\u001b[0m\u001b[0;32m      2\u001b[0m \u001b[1;31m# load balanced view\u001b[0m\u001b[1;33m\u001b[0m\u001b[1;33m\u001b[0m\u001b[0m\n\u001b[0;32m      3\u001b[0m \u001b[0md_view\u001b[0m \u001b[1;33m=\u001b[0m \u001b[0mrc\u001b[0m\u001b[1;33m[\u001b[0m\u001b[1;33m:\u001b[0m\u001b[1;33m]\u001b[0m\u001b[1;33m\u001b[0m\u001b[0m\n\u001b[0;32m      4\u001b[0m \u001b[1;31m# do synchronized processing\u001b[0m\u001b[1;33m\u001b[0m\u001b[1;33m\u001b[0m\u001b[0m\n\u001b[0;32m      5\u001b[0m \u001b[0md_view\u001b[0m\u001b[1;33m.\u001b[0m\u001b[0mblock\u001b[0m\u001b[1;33m=\u001b[0m\u001b[1;32mTrue\u001b[0m\u001b[1;33m\u001b[0m\u001b[0m\n",
      "\u001b[1;32mc:\\users\\user\\appdata\\local\\programs\\python\\python36-32\\lib\\site-packages\\IPython\\utils\\shimmodule.py\u001b[0m in \u001b[0;36m__getattr__\u001b[1;34m(self, key)\u001b[0m\n\u001b[0;32m     92\u001b[0m             \u001b[1;32mreturn\u001b[0m \u001b[0mimport_item\u001b[0m\u001b[1;33m(\u001b[0m\u001b[0mname\u001b[0m\u001b[1;33m)\u001b[0m\u001b[1;33m\u001b[0m\u001b[0m\n\u001b[0;32m     93\u001b[0m         \u001b[1;32mexcept\u001b[0m \u001b[0mImportError\u001b[0m\u001b[1;33m:\u001b[0m\u001b[1;33m\u001b[0m\u001b[0m\n\u001b[1;32m---> 94\u001b[1;33m             \u001b[1;32mraise\u001b[0m \u001b[0mAttributeError\u001b[0m\u001b[1;33m(\u001b[0m\u001b[0mkey\u001b[0m\u001b[1;33m)\u001b[0m\u001b[1;33m\u001b[0m\u001b[0m\n\u001b[0m",
      "\u001b[1;31mAttributeError\u001b[0m: Client"
     ]
    }
   ],
   "source": [
    "rc = parallel.Client()\n",
    "# load balanced view\n",
    "d_view = rc[:]\n",
    "# do synchronized processing\n",
    "d_view.block=True\n",
    "\n",
    "# import Numpy\n",
    "with d_view.sync_imports():\n",
    "    import numpy"
   ]
  },
  {
   "cell_type": "code",
   "execution_count": 126,
   "metadata": {},
   "outputs": [],
   "source": [
    "def initial_centroids(data, k):\n",
    "    ''' select k random data points from the data'''\n",
    "    return data[numpy.random.choice(range(data.shape[0]), k, replace=False)]\n",
    "\n",
    "def compare_centroids(old_centroids, new_centroids, precision=-1):\n",
    "    if precision == -1:\n",
    "        return np.array_equal(old_centroids, new_centroids)\n",
    "    else:\n",
    "        diff = np.sum((new_centroids - old_centroids)**2, axis=1)\n",
    "        if np.max(diff) <= precision:\n",
    "            return True\n",
    "        else:\n",
    "            return False\n",
    "\n",
    "def lloyds_iteration(data, centroids):\n",
    "    # find the Euclidean distance between a center and a data point\n",
    "    # centroids array shape = k x m\n",
    "    # data array shape = n x m\n",
    "    # In order to broadcast it, we have to introduce a third dimension into data\n",
    "    # data array becomes n x 1 x m\n",
    "    # now as a result of broadcasting, both array sizes will be n x k x m\n",
    "    data_ex = data[:, numpy.newaxis, :]\n",
    "    euclidean_dist = (data_ex - centroids) ** 2\n",
    "    # now take the summation of all distances along the 3rd axis(length of the dimension is m).\n",
    "    # This will be the total distance from each centroid for each data point.\n",
    "    # resulting vector will be of size n x k\n",
    "    distance_arr = numpy.sum(euclidean_dist, axis=2)\n",
    "\n",
    "    # now we need to find out to which cluster each data point belongs.\n",
    "    # Use a matrix of n x k where [i,j] = 1 if the ith data point belongs\n",
    "    # to cluster j.\n",
    "    min_location = numpy.zeros(distance_arr.shape)\n",
    "    min_location[range(distance_arr.shape[0]), numpy.argmin(distance_arr, axis=1)] = 1\n",
    "\n",
    "    # calculate J\n",
    "    j_val = numpy.sum(distance_arr[min_location == True])\n",
    "\n",
    "    # calculates the new centroids\n",
    "    new_centroids = numpy.empty(centroids.shape)\n",
    "    membership_count = numpy.empty(centroids.shape[0])\n",
    "    for col in range(0, centroids.shape[0]):\n",
    "        new_centroids[col] = numpy.mean(data[min_location[:, col] == True, :], axis=0)\n",
    "        membership_count[col] = numpy.count_nonzero(min_location[:, col])\n",
    "        \n",
    "    return {'j-value':j_val, 'centroids':new_centroids, 'element-count':membership_count}"
   ]
  },
  {
   "cell_type": "code",
   "execution_count": 130,
   "metadata": {},
   "outputs": [
    {
     "name": "stdout",
     "output_type": "stream",
     "text": [
      "Iterations: 178\n"
     ]
    }
   ],
   "source": [
    "data = np.random.randn(1000000,2)\n",
    "# distribute the data among the engines\n",
    "d_view.scatter('data', data)\n",
    "centroids = np.array(d_view.apply(initial_centroids, parallel.Reference('data'),2)).reshape(4,2)\n",
    "stabilized = False\n",
    "iterations = 0\n",
    "while not stabilized:\n",
    "    iterations += 1\n",
    "    ret_vals = d_view.apply(lloyds_iteration, parallel.Reference('data'), centroids)\n",
    "    member_count = np.sum(np.array([r['element-count'] for r in ret_vals]).reshape(len(ret_vals),-1),axis=0)\n",
    "    local_sum = np.array([r['centroids'] * r['element-count'].reshape(-1,1) for r in ret_vals])\n",
    "    new_centroids = np.sum(local_sum, axis=0)/member_count.reshape(-1,1)\n",
    "    if compare_centroids(centroids, new_centroids):\n",
    "        stabilized = True\n",
    "    else:\n",
    "        centroids = new_centroids\n",
    "\n",
    "print('Iterations:', iterations)"
   ]
  },
  {
   "cell_type": "code",
   "execution_count": 69,
   "metadata": {},
   "outputs": [],
   "source": []
  },
  {
   "cell_type": "code",
   "execution_count": null,
   "metadata": {},
   "outputs": [],
   "source": []
  }
 ],
 "metadata": {
  "kernelspec": {
   "display_name": "Python 3",
   "language": "python",
   "name": "python3"
  },
  "language_info": {
   "codemirror_mode": {
    "name": "ipython",
    "version": 3
   },
   "file_extension": ".py",
   "mimetype": "text/x-python",
   "name": "python",
   "nbconvert_exporter": "python",
   "pygments_lexer": "ipython3",
   "version": "3.6.5"
  }
 },
 "nbformat": 4,
 "nbformat_minor": 1
}
